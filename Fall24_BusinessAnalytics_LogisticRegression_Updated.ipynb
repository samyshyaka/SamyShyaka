{
  "nbformat": 4,
  "nbformat_minor": 0,
  "metadata": {
    "anaconda-cloud": {},
    "kernelspec": {
      "display_name": "Python 3",
      "language": "python",
      "name": "python3"
    },
    "language_info": {
      "codemirror_mode": {
        "name": "ipython",
        "version": 3
      },
      "file_extension": ".py",
      "mimetype": "text/x-python",
      "name": "python",
      "nbconvert_exporter": "python",
      "pygments_lexer": "ipython3",
      "version": "3.7.3"
    },
    "toc": {
      "base_numbering": 1,
      "nav_menu": {},
      "number_sections": true,
      "sideBar": true,
      "skip_h1_title": false,
      "title_cell": "Table of Contents",
      "title_sidebar": "Contents",
      "toc_cell": false,
      "toc_position": {},
      "toc_section_display": true,
      "toc_window_display": false
    },
    "colab": {
      "provenance": [],
      "include_colab_link": true
    }
  },
  "cells": [
    {
      "cell_type": "markdown",
      "metadata": {
        "id": "view-in-github",
        "colab_type": "text"
      },
      "source": [
        "<a href=\"https://colab.research.google.com/github/samyshyaka/SamyShyaka/blob/main/Fall24_BusinessAnalytics_LogisticRegression_Updated.ipynb\" target=\"_parent\"><img src=\"https://colab.research.google.com/assets/colab-badge.svg\" alt=\"Open In Colab\"/></a>"
      ]
    },
    {
      "cell_type": "markdown",
      "metadata": {
        "id": "-sZA6YAx5a44"
      },
      "source": [
        "# Logistic Regression"
      ]
    },
    {
      "cell_type": "markdown",
      "metadata": {
        "id": "Ek2bQEeq5a45"
      },
      "source": [
        "Logistic regression is a clasification model that is very easy to implement but performs very well on linearly seperable classes. It is one of the most widely used algorithms for classification in the industry. Logistic regression is a linear model for **binary classification** that can be extended to multiclass classification as you will learn in the advanced Machine Learning courses."
      ]
    },
    {
      "cell_type": "markdown",
      "metadata": {
        "id": "vMhDZ00H5a46"
      },
      "source": [
        "To explain the idea behind the logistic regression as a probabilistic model, let's first introduce the **odds ratio**, which is the odds in favor of a particular event. The odds ration can be written as $\\frac{p}{(1-p)}$, where $p$ stands for the probability of a positive event. Note that the term _positive event_ does not necessarily mean good, but refers to the event that we want to predict, for example, the probability that a patient has a certain disease; we can think of the positive event as the class label $y=1$. We can then further define the **logit** function, which is simply the logarithm of the odds ratio (log-odds):\n",
        "\n",
        "$$logit(p)=log\\frac{p}{(1-p)}$$"
      ]
    },
    {
      "cell_type": "markdown",
      "metadata": {
        "id": "w0_kL9n75a47"
      },
      "source": [
        "The logit function takes input values in the range $0$ to $1$ and transforms them to the values over the entire real number range, which we can use to express a linear relationship between feature values and the log-odds:\n",
        "\n",
        "$$logit(p(y=1|x))=w_0x_0+w_1x_1+...+w_mx_m=w^Tx$$\n",
        "\n",
        "where $p(y=1|x)$ is the conditional probability that a particular sample/instance belong to class $1$ given its features $X$.\n",
        "\n",
        "Now that we are actually intersted in is predicting the probability that a certain sample belong to a particular class, which is the inverse form of the logit function. It is also called the *logistic* function, simetimes simply abbreciated as _sigmoid_ function due to its characteristic S-shape.\n",
        "\n",
        "$$\\phi(z)=\\frac{1}{1+e^{-z}}=\\frac{1}{1+e^{-(w_0x_0+w_1x_1+...+w_mx_m)}}$$"
      ]
    },
    {
      "cell_type": "markdown",
      "metadata": {
        "id": "dyrnRqO25a47"
      },
      "source": [
        "Now let's simply plot the sigmoid functuin for some values in the range $-8$ tp $8$ to see what it looks like:\n"
      ]
    },
    {
      "cell_type": "markdown",
      "source": [
        "# The Sigmoid Function"
      ],
      "metadata": {
        "id": "QDi80yxeoHQe"
      }
    },
    {
      "cell_type": "markdown",
      "source": [
        "The following code visualizes the sigmoid function, which is commonly used in machine learning and logistic regression.\n",
        "\n",
        "The output of this code is a visualization of the sigmoid function, showing how it maps input values z to values between 0 and 1, forming an S-shaped curve.\n",
        "\n",
        "\n",
        "\n",
        "\n"
      ],
      "metadata": {
        "id": "ALJHgEVoKnr8"
      }
    },
    {
      "cell_type": "code",
      "metadata": {
        "id": "FMrjTTT_5a48",
        "colab": {
          "base_uri": "https://localhost:8080/",
          "height": 504
        },
        "outputId": "387004d8-8c79-43ea-e6b1-61c6b4405071"
      },
      "source": [
        "#################################### Visualization of Sigmoid Function ####################################\n",
        "\n",
        "# Import necessary libraries and modules\n",
        "import matplotlib.pyplot as plt\n",
        "import numpy as np\n",
        "\n",
        "# Define Sigmoid Function\n",
        "# The sigmoid function is a mathematical function that maps any real number z to a value between 0 and 1\n",
        "def sigmoid(z):\n",
        "    return 1.0 / (1.0 + np.exp(-z)) # takes z as input and plugs it in the sigmoid function; returns that output value of the sigmoid function\n",
        "\n",
        "# List of values and computation\n",
        "# An array of values z is created using NumPy's arange function. These values range from -8 to 8 with a step size of 0.1\n",
        "z = np.arange(-8, 8, 0.1) # return evenly spaced values within a given interval using the specified step\n",
        "\n",
        "#  The sigmoid(z) function is then applied to these values, and the result is stored in the phi_z variable\n",
        "phi_z = sigmoid(z)        # takes z as input and returns sigmoid of z\n",
        "print(z[0],phi_z[0])      # see first elements of arrays\n",
        "\n",
        "# Visualization parameters\n",
        "# The code plots the sigmoid function using plt.plot(z, phi_z)\n",
        "plt.plot(z, phi_z)          # specify what to plot\n",
        "plt.axvline(0.0, color='k') # add a vertical line across the axes at 0\n",
        "plt.ylim(-0.1, 1.1)         # set the y-limits of the current axes\n",
        "plt.xlabel('z')             # set label of x axis\n",
        "plt.ylabel('$\\phi (z)$')    # set label of y axis\n",
        "\n",
        "# y axis ticks and gridline\n",
        "plt.yticks([0.0, 0.5, 1.0]) # add y ticks at 0, 0.5 and 1\n",
        "ax = plt.gca()              # gca stands for get the current axis\n",
        "ax.yaxis.grid(True)         # adds a gridline to the y-axis for better visualization.\n",
        "\n",
        "plt.tight_layout() # tight_layout automatically adjusts subplot params so that the subplot(s) fits in to the figure area.\n",
        "plt.show()         # display the figure\n"
      ],
      "execution_count": null,
      "outputs": [
        {
          "output_type": "stream",
          "name": "stdout",
          "text": [
            "-8.0 0.0003353501304664781\n"
          ]
        },
        {
          "output_type": "display_data",
          "data": {
            "text/plain": [
              "<Figure size 640x480 with 1 Axes>"
            ],
            "image/png": "[encoded data removed]"
          },
          "metadata": {}
        }
      ]
    },
    {
      "cell_type": "markdown",
      "metadata": {
        "id": "O33nGXSV5a4_"
      },
      "source": [
        "We can see that $\\phi(z)$ approaches 1 if $z$ goes towards infinity $(z \\to \\infty)$, since $e^{-z}$ becomes very small for large values of $z$. Similarly,  $\\phi(z)$ goes towards 0 for $(z \\to -\\infty)$ as the result of an increasingly large denominator. Thus, we conclude that this sigmoid function takes real number values as input and transforms them to values in the range $[0,1]$ with an intercept at $\\phi(z)=0.5$"
      ]
    },
    {
      "cell_type": "markdown",
      "metadata": {
        "id": "HZX4P0Ll5a4_"
      },
      "source": [
        "The output of the sigmoid function is interpreted as the probability of particular sample belonging to class $1$  $\\phi(z)=p(y=1 \\mid x;w)$, given its features $x$ parameterized by the weights $w$. For example, if we compute $\\phi(z)=0.8$ for a particular flower sample, it means that the chance that this sample is an Iris-Versicolor flower is $80\\%$. Similarly, the probability that this flower is an Iris-Setosa flower can be calculated as $p(y=0 \\mid x;w)=1-P(y=1 \\mid x;w)=0.2$ or $20\\%$. The predicted probability can the simply be converted into a binary outcome via a function:\n",
        "\n",
        "$$\n",
        "    \\widehat{y}  =\\left\\{\n",
        "                \\begin{array}{ll}\n",
        "                  1 \\text{ if } \\phi(z) \\geq 0.5\\\\\n",
        "                  0 \\textit{ otherwise }\\\\\n",
        "                \\end{array}\n",
        "              \\right.\n",
        "$$\n",
        "\n",
        "If we look at the predictive sigmoid plot, this is equivalent to the following:\n",
        "\n",
        "$$\n",
        "    \\widehat{y}  =\\left\\{\n",
        "                \\begin{array}{ll}\n",
        "                  1 \\text{ if } z \\geq 0.0\\\\\n",
        "                  0 \\textit{ otherwise }\\\\\n",
        "                \\end{array}\n",
        "              \\right.\n",
        "$$"
      ]
    },
    {
      "cell_type": "markdown",
      "metadata": {
        "id": "zMaP8jC95a5A"
      },
      "source": [
        "As we have already discussed, there are many applications where we are not only interested in the predicted class labels, but where estimating the class-membership probability is particularly useful. Logistic regression is used in weather forecasting, for example, to not only predict if it will rain on a particular day but also to report the chance of rain. Similarly, logistic regression can be used to predict the chance that a patient has a particular disease given certain symptoms, which is why logistic regression enjoys wide popularity in the field of medicine."
      ]
    },
    {
      "cell_type": "markdown",
      "metadata": {
        "id": "W8Zfx1OM5a5A"
      },
      "source": [
        "# Training a logistic regression model with scikit-learn\n",
        "\n",
        "\n"
      ]
    },
    {
      "cell_type": "markdown",
      "source": [
        " The following code code segment prepares the environment for data analysis, loads the Iris dataset, and extracts the feature matrix (X) and target variable (y) for further machine learning tasks. It is often used as a starting point for various machine learning algorithms and classification tasks using the Iris dataset."
      ],
      "metadata": {
        "id": "TPTvBxf3NpnQ"
      }
    },
    {
      "cell_type": "code",
      "metadata": {
        "id": "NW5qzmS45a5B"
      },
      "source": [
        "######################################### Load Libraries and Data #########################################\n",
        "\n",
        "# To write a Python 2/3 compatible codebase, the first step is to add this line to the top of each module\n",
        "# It sets up future statements to enable division to work as in Python 3, and it ensures that print statements\n",
        "# use the Python 3 syntax. Additionally, it enables support for Unicode literals.\n",
        "from __future__ import division, print_function, unicode_literals\n",
        "\n",
        "# Import necessary libraries and modules\n",
        "# Matplotlib inline allows the output of plotting commands will be displayed inline (within the notebook)\n",
        "%matplotlib inline\n",
        "from sklearn.datasets import load_iris  # iris dataset\n",
        "                                        # imports the load_iris function from the sklearn.datasets module\n",
        "from sklearn import linear_model        # the sklearn.linear_model module implements generalized linear models.\n",
        "                                        # it's used for various linear modeling techniques, including logistic regression,\n",
        "                                        # which is commonly abbreviated as LogReg.\n",
        "\n",
        "# Load the Iris data set\n",
        "# Refer to the decision tree notebook for a description of this data set\n",
        "iris = load_iris()\n",
        "X = iris.data[:, [2, 3]]                # specify attributes\n",
        "                                        # it selects columns 2 and 3 (petal length and petal width) from the iris.data attribute\n",
        "                                        # the resulting feature matrix is stored in the variable X.\n",
        "y = iris.target                         # specify target variable\n",
        "                                        # it is stored in the variable y"
      ],
      "execution_count": null,
      "outputs": []
    },
    {
      "cell_type": "markdown",
      "metadata": {
        "id": "b8MDlKdC5a5E"
      },
      "source": [
        "When we create an instance of a classifier, the parameter $C$ is the inverse of regularization strength; must be a positive float. **Smaller $C$ values specify stronger regularization.**\n",
        "\n",
        "Learning the parameters of a prediction function and testing it on the same data is a methodological mistake: a model that would just repeat the labels of the samples that it has just seen would have a perfect score but would fail to predict anything useful on yet-unseen data. This situation is called overfitting. To avoid it, it is common practice when performing a (supervised) machine learning experiment to hold out part of the available data as a test set X_test, y_test.\n",
        "\n",
        "Overall, the following code demonstrates the process of splitting data, training a logistic regression classifier, applying the classifier, and evaluating its performance on a test dataset using various classification metrics.\n",
        "\n",
        "\n",
        "\n",
        "\n"
      ]
    },
    {
      "cell_type": "code",
      "metadata": {
        "id": "p2BAoxT-5a5E",
        "colab": {
          "base_uri": "https://localhost:8080/"
        },
        "outputId": "6d99afb7-ca06-4d2e-9eed-2c28edb438d6"
      },
      "source": [
        "######################################### Load Libraries and Modules #########################################\n",
        "\n",
        "#  import the necessary libraries and modules from scikit-learn\n",
        "from sklearn.model_selection import train_test_split # splits arrays or matrices into random train and test subsets\n",
        "from sklearn.metrics import accuracy_score, f1_score, classification_report # the sklearn.metrics module includes performance metrics\n",
        "\n",
        "############################################    Split the Data   ############################################\n",
        "\n",
        "# Split validation\n",
        "# train_test_split is used to split the dataset into training (X_train, y_train) and testing (X_test, y_test) subsets\n",
        "X_train, X_test, y_train, y_test = train_test_split(X,  # dataset to be split ; X represents the feature matrix\n",
        "                                                    y,  # dataset to be split ; y represents the target variable\n",
        "\n",
        "                                                    test_size=0.4,  # a float number between 0.0 and 1.0 representing the proportion of the dataset to include in the test split\n",
        "                                                                    # test_size=0.4 specifies that 40% of the data will be used for testing, and the remaining 60% for training\n",
        "                                                    random_state=1, # controls the shuffling for reproducible output\n",
        "\n",
        "                                                    stratify=y)     # data is split in a stratified fashion  i.e., creates splits by preserving\n",
        "                                                                    # the same percentage for each target class as in the complete set.\n",
        "\n",
        "#################################### Train the Logistic Regression Model ####################################\n",
        "\n",
        "# We first create an instance of the Classifier\n",
        "# We will use a Logistic Regression (aka logit) classifier\n",
        "\n",
        "# sklrean documentation https://scikit-learn.org/stable/modules/generated/sklearn.linear_model.LogisticRegression.html\n",
        "# a logistic regression classifier is instantiated using linear_model.LogisticRegression\n",
        "clf = linear_model.LogisticRegression(multi_class='auto', # accomondates multi-class categorical target variable\n",
        "\n",
        "                                      C=1e5, # C parameter is the inverse of regularization strength (i.e., smaller C values\n",
        "                                             # specify stronger regularization)\n",
        "                                             # C must be a positive float\n",
        "                                             # C in this case is 1/lambda\n",
        "                                             # Applies regularization by default; you can set C very large to avoid regularization\n",
        "                                             # (setting penalty l2 can speed up the estimations with a very large C)\n",
        "\n",
        "                                      solver = 'lbfgs',   # solver specifies the optimization algorithm to use in the optimization problem.\n",
        "                                                          # default is ‘lbfgs’\n",
        "\n",
        "                                      max_iter=100)       # maximum number of iterations taken for the solvers to converge\n",
        "                                                          # default is 100\n",
        "\n",
        "\n",
        "# Train the model (fit the data)\n",
        "# As with other classifiers, it takes as input two arrays: an array X, sparse or dense,\n",
        "# of size [n_samples, n_features] holding the training samples, and an array Y of integer values, size [n_samples],\n",
        "# holding the class labels for the training samples:\n",
        "clf = clf.fit(X_train, y_train)                             # model induction using the train data\n",
        "\n",
        "print('The weights of the attributes are:', clf.coef_)      # reports coefficients of the features in the decision function\n",
        "                                                            # the coefficients in clf.coef_ are printed in the same order as the columns of the input feature matrix X\n",
        "                                                            # these coefficients represent the weight or importance of each feature in the logistic regression model's decision function\n",
        "print('The weights of the intercepts are:', clf.intercept_) # reports intercepts in the decision function\n",
        "\n",
        "#################################### Apply the Logistic Regression Model ####################################\n",
        "\n",
        "# We now apply the trained logistic regression model to the test set\n",
        "y_pred = clf.predict(X_test)             # generate classification prediction and store them in y_pred\n",
        "                                         # in scikit-learn's LogisticRegression the default threshold for the .predict() method is 0.5\n",
        "y_pred_prob = clf.predict_proba(X_test)  # estimate class probabilities\n",
        "\n",
        "# Print the first elements of the arrays containing predictions, predicted class probabilities,\n",
        "# and the sum of predicted probabilities for the first test sample\n",
        "print('The predictions are:', y_pred[0], y_pred_prob[0], np.sum(y_pred_prob[0])) # prints first elements of arrays\n",
        "\n",
        "################################### Evaluate the Logistic Regression Model ##################################\n",
        "\n",
        "# Build a text report showing the main classification metrics (out-of-sample performance)\n",
        "print(classification_report(y_test, y_pred, target_names=iris.target_names)) # builds a text report showing the main classification metrics\n",
        "                                                                             # (such as precision, recall, f1-score)\n",
        "\n"
      ],
      "execution_count": null,
      "outputs": [
        {
          "output_type": "stream",
          "name": "stdout",
          "text": [
            "The weights of the attributes are: [[ -6.86996113 -14.91898849]\n",
            " [ -0.48965597   3.12344405]\n",
            " [  7.3596171   11.79554444]]\n",
            "The weights of the intercepts are: [ 37.15405037   7.92119502 -45.07524538]\n",
            "The predictions are: 0 [0.99994949 0.00005051 0.        ] 1.0\n",
            "              precision    recall  f1-score   support\n",
            "\n",
            "      setosa       1.00      1.00      1.00        20\n",
            "  versicolor       0.95      1.00      0.98        20\n",
            "   virginica       1.00      0.95      0.97        20\n",
            "\n",
            "    accuracy                           0.98        60\n",
            "   macro avg       0.98      0.98      0.98        60\n",
            "weighted avg       0.98      0.98      0.98        60\n",
            "\n"
          ]
        }
      ]
    },
    {
      "cell_type": "markdown",
      "metadata": {
        "id": "4zhvsioX5a5H"
      },
      "source": [
        "In the case of the Iris dataset, the samples are balanced across target classes hence the accuracy and the F1-score are almost equal."
      ]
    },
    {
      "cell_type": "markdown",
      "metadata": {
        "id": "LdAlmFt95a5H"
      },
      "source": [
        "# Applying the logistic regression model\n"
      ]
    },
    {
      "cell_type": "markdown",
      "source": [
        "The following code section shows how to use a trained logistic regression model for making class predictions and estimating class probabilities for new input samples. Additionally, it hints at the use of decision_function to gain insight into the sample's position with respect to the classifier's decision boundary."
      ],
      "metadata": {
        "id": "SLUvq6PiRqO4"
      }
    },
    {
      "cell_type": "code",
      "metadata": {
        "id": "mI2FL4ub5a5I",
        "colab": {
          "base_uri": "https://localhost:8080/"
        },
        "outputId": "a99a9dc6-3664-47bc-f169-07c4c7dac241"
      },
      "source": [
        "#################################### Apply the Logistic Regression Model ####################################\n",
        "\n",
        "# After being fitted, the model can then be used to predict the class of samples\n",
        "# iris.data[:1, [2, 3]] selects the features of the first instance in the Iris dataset (petal length and petal width).\n",
        "# The result is printed as the predicted class label for the first instance\n",
        "print('The 1st instance is predicted to belong to class:', clf.predict(iris.data[:1, [2, 3]])) # we input an instance’s feature values\n",
        "#print(iris.data[:1, [2, 3]])\n",
        "\n",
        "# This line sets NumPy's print options to suppress scientific notation when printing large or small numbers\n",
        "np.set_printoptions(suppress=True) # suppress scientific notation\n",
        "\n",
        "# Alternatively, the probability of each class can be predicted\n",
        "# The result is printed as the estimated probabilities of belonging to each class\n",
        "print('The probabilities of belonging to each one of the classes are estimated as:', clf.predict_proba(iris.data[:1, [2, 3]]))\n",
        "\n",
        "# Try also clf.decision_function(X)\n",
        "# The desion function tells us on which side of the hyperplane generated by the classifier we are\n",
        "# (and how far we are away from it). Based on that information, the estimator then label the examples\n",
        "# with the corresponding label."
      ],
      "execution_count": null,
      "outputs": [
        {
          "output_type": "stream",
          "name": "stdout",
          "text": [
            "The 1st instance is predicted to belong to class: [0]\n",
            "The probabilities of belonging to each one of the classes are estimated as: [[0.99999994 0.00000006 0.        ]]\n"
          ]
        }
      ]
    },
    {
      "cell_type": "markdown",
      "source": [
        "This part provides a comment suggesting that you can also use *clf.decision_function(X)* to understand where a sample lies with respect to the decision boundary or hyperplane generated by the logistic regression classifier. The result of *decision_function* provides information about the distance of the sample from the decision boundary, which is used to determine the predicted class label."
      ],
      "metadata": {
        "id": "d_uQ5FcBR0R4"
      }
    },
    {
      "cell_type": "markdown",
      "metadata": {
        "id": "45htZTkQ5a5Q"
      },
      "source": [
        "#  Estimating Generalization Performance with Cross-Validation"
      ]
    },
    {
      "cell_type": "markdown",
      "metadata": {
        "id": "ZVDyZi6i5a5R"
      },
      "source": [
        "In the basic approach, called $k$-fold CV, the training set is split into k smaller sets (other approaches are described below, but generally follow the same principles). The following procedure is followed for each of the k “folds”:\n",
        "\n",
        "\n",
        "- A model is trained using $k$-1 of the folds as training data;\n",
        "- the resulting model is validated on the remaining part of the data (i.e., it is used as a test set to compute a performance measure such as accuracy).\n",
        "\n",
        "\n",
        "The performance measure reported by k-fold cross-validation is then the average of the values computed in the loop. This approach can be computationally expensive, but does not waste too much data (as it is the case when fixing an arbitrary test set), which is a major advantage in problem such as inverse inference where the number of samples is very small.\n",
        "\n",
        "The simplest way to use cross-validation is to call the cross_val_score helper function on the estimator and the dataset.\n",
        "\n",
        "The following example demonstrates how to estimate the accuracy of a logistic regression on the iris dataset by splitting the data, fitting a model and computing the score 5 and 10 consecutive times respectively (with different splits each time):"
      ]
    },
    {
      "cell_type": "code",
      "metadata": {
        "id": "A5FaqieL5a5R",
        "colab": {
          "base_uri": "https://localhost:8080/"
        },
        "outputId": "ed60a137-8e2a-4ade-b5cc-80df30d387d1"
      },
      "source": [
        "#################################### Logistic Regression with Cross Validation ####################################\n",
        "\n",
        "# the necessary libraries and modules are imported\n",
        "from sklearn import metrics  # the sklearn.metrics module includes score functions, performance metrics and pairwise metrics\n",
        "                             # and distance computations.\n",
        "                             # https://scikit-learn.org/stable/modules/classes.html#sklearn-metrics-metrics\n",
        "from sklearn.linear_model import LogisticRegression # the sklearn.linear_model module implements generalized linear models. LogReg is part of this module\n",
        "from sklearn.model_selection import cross_val_score # evaluate a performance score by using the cross-validation technique\n",
        "\n",
        "# Initiate the logistic regression classifier\n",
        "# Later on, we will fit this model to all the data\n",
        "clf_lr = linear_model.LogisticRegression(multi_class='auto',  # multi_class='auto' indicates that the classifier should handle multi-class classification automatically\n",
        "                                         C=1,                 # C=1 specifies the regularization strength (smaller values of C correspond to stronger regularization)\n",
        "                                         max_iter=200)        #  maximum number of iterations for optimization\n",
        "\n",
        "# Evaluate performance with cross-validation technique (accuracy)\n",
        "# Read more about cross_val_score in the following link\n",
        "# http://scikit-learn.org/stable/modules/generated/sklearn.model_selection.cross_val_score.html#sklearn.model_selection.cross_val_score\n",
        "\n",
        "# Accuracy\n",
        "scores=cross_val_score(clf_lr,                # specify the model to use to fit the data\n",
        "                                              # in this case, the logistic regression classifier\n",
        "                       iris.data[:, [2, 3]],  # the data to fit. Can be for example a list, or an array\n",
        "                                              # the features used for training are petal length and petal width\n",
        "                       iris.target,           # the target variable to try to predict\n",
        "                       cv=5)                  # specify the number of folds (if the estimator is a classifier and y is either binary or multiclass,\n",
        "                                              # sStratifiedKFold is used)\n",
        "\n",
        "# The code calculates and prints the mean accuracy across all cross-validation folds (scores.mean())\n",
        "# and the confidence interval (scores.std() * 2).\n",
        "print(\"Accuracy: %0.2f (+/- %0.2f)\" % (scores.mean(), scores.std() * 2))\n",
        "# prints the accuracy scores for each fold\n",
        "print(scores)\n",
        "\n",
        "# F-1 scores\n",
        "# print the mean F1 score and its confidence interval\n",
        "scores_f1=cross_val_score(clf_lr,               # the model to use to fit the data\n",
        "                          iris.data[:, [2, 3]], # the data to fit. Can be for example a list, or an array\n",
        "                          iris.target,          # the target variable to try to predict\n",
        "                          cv=10,                # specify the number of folds (if the estimator is a classifier and y is either binary or\n",
        "                                                # multiclass, StratifiedKFold is used)\n",
        "                          scoring='f1_macro')   # the macro-average F1 score should be used as the scoring metric\n",
        "\n",
        "# prints the F1 scores for each fold\n",
        "print(\"F1-score: %0.2f (+/- %0.2f)\" % (scores_f1.mean(), scores_f1.std() * 2)) # returns an array of scores of the estimator for each run\n",
        "print(scores_f1)                                                               # of the cross validation"
      ],
      "execution_count": null,
      "outputs": [
        {
          "output_type": "stream",
          "name": "stdout",
          "text": [
            "Accuracy: 0.96 (+/- 0.05)\n",
            "[0.96666667 0.96666667 0.93333333 0.93333333 1.        ]\n",
            "F1-score: 0.96 (+/- 0.09)\n",
            "[1.         0.93265993 1.         0.93265993 0.93265993 0.93265993\n",
            " 0.86666667 1.         1.         1.        ]\n"
          ]
        }
      ]
    },
    {
      "cell_type": "markdown",
      "source": [
        "Macro-Averaging: In multi-class classification, you have multiple classes (more than two). To compute the macro-average F1 score, you calculate the F1 score for each class individually and then average them. Each class has its own precision and recall, resulting in a separate F1 score. The macro-average treats each class equally and gives them equal weight when computing the average, regardless of the class size.\n",
        "\n",
        "Micro-Averaging: In contrast, micro-average F1 score computes a single F1 score by considering all instances across all classes. It doesn't differentiate between classes; all instances are treated equally.\n",
        "\n",
        "So, when you use the \"*macro-average F1 score*\" as a scoring metric, you are essentially looking at how well the model performs in terms of precision and recall for each individual class and then averaging those values. It's a way to assess the model's performance across all classes, giving each class equal importance, which can be useful when you want to ensure that the model performs well for all classes, especially in cases where class imbalances exist.\n",
        "\n",
        "In summary, the macro-average F1 score provides a balanced assessment of a classifier's performance across multiple classes, making it a suitable metric when you want to evaluate classification models in multi-class scenarios with unequal class sizes or when you want to ensure fairness across all classes."
      ],
      "metadata": {
        "id": "OATRhNKDUA_J"
      }
    },
    {
      "cell_type": "markdown",
      "source": [
        "Then, the following code performs a *comprehensive* evaluation of a logistic regression classifier using all features of the Iris dataset.\n",
        "\n",
        "It uses 10-fold cross-validation to assess the model's performance, particularly in terms of the macro-average F1 score, and provides both the mean F1 score and its confidence interval. This information helps in understanding how well the model generalizes to unseen data and provides a robust estimate of its performance."
      ],
      "metadata": {
        "id": "iFPPTKWfUiws"
      }
    },
    {
      "cell_type": "code",
      "metadata": {
        "id": "3Kof__9s5a5T",
        "colab": {
          "base_uri": "https://localhost:8080/"
        },
        "outputId": "c8a9e54c-8b85-478e-ff4e-bb8d95324e65"
      },
      "source": [
        "#################################### Logistic Regression with Cross Validation ####################################\n",
        "\n",
        "# Use all features of the data\n",
        "scores = cross_val_score(clf_lr,              # the model to use to fit the data\n",
        "                         iris.data,           # the data to fit. Can be for example a list, or an array\n",
        "                         iris.target,         # the target variable to try to predict\n",
        "                         cv=10,               # specify the number of folds (if the estimator is a classifier and y is either binary or multiclass, StratifiedKFold is used)\n",
        "                         scoring='f1_macro')  # indicates that the macro-average F1 score should be used as the scoring metric for evaluation.\n",
        "\n",
        "# print the F1 scores for each fold of the cross-validation\n",
        "print(scores)\n",
        "# calculate and print the mean F1 score across all cross-validation folds\n",
        "print(\"F1 score: %0.2f (+/- %0.2f)\" % (scores.mean(), scores.std() * 2)) # returns an array of scores of the estimator for each run\n",
        "                                                                         # of the cross validation"
      ],
      "execution_count": null,
      "outputs": [
        {
          "output_type": "stream",
          "name": "stdout",
          "text": [
            "[1.         0.93265993 1.         1.         0.93265993 0.93265993\n",
            " 0.93265993 1.         1.         1.        ]\n",
            "F1 score: 0.97 (+/- 0.07)\n"
          ]
        }
      ]
    },
    {
      "cell_type": "markdown",
      "metadata": {
        "id": "DvjDALkq5a5W"
      },
      "source": [
        "In the case of the Iris dataset, the samples are balanced across target classes hence the accuracy and the F1-score are almost equal."
      ]
    },
    {
      "cell_type": "markdown",
      "source": [
        "# Feature Engineering Examples (Logistic Regression)\n",
        "\n"
      ],
      "metadata": {
        "id": "acdRer-ccCDv"
      }
    },
    {
      "cell_type": "markdown",
      "source": [
        "Feature engineering is the process of creating new features or modifying existing features from raw data to improve the performance of machine learning models. It's a critical and often creative step in the machine learning pipeline because the choice of features greatly influences a model's ability to learn and make accurate predictions. Feature engineering involves selecting, transforming, and generating features that are relevant and informative for the task at hand."
      ],
      "metadata": {
        "id": "eU3vJ1g0cAHZ"
      }
    },
    {
      "cell_type": "code",
      "source": [
        "#################################### Feature Engineering Example 1 ####################################\n",
        "import numpy as np\n",
        "from sklearn.datasets import load_iris\n",
        "from sklearn.preprocessing import PolynomialFeatures, StandardScaler\n",
        "from sklearn.linear_model import LogisticRegression\n",
        "from sklearn.model_selection import cross_val_score\n",
        "\n",
        "# Load the Iris dataset\n",
        "iris = load_iris()\n",
        "X, y = iris.data, iris.target\n",
        "\n",
        "# Feature Engineering: Adding Polynomial Features\n",
        "poly = PolynomialFeatures(degree=2)  # Add polynomial features up to degree 2\n",
        "X_poly = poly.fit_transform(X)\n",
        "\n",
        "# Scale the features\n",
        "scaler = StandardScaler()\n",
        "X_scaled = scaler.fit_transform(X_poly)\n",
        "\n",
        "# Initialize a Logistic Regression model\n",
        "lr = LogisticRegression(multi_class='auto',\n",
        "                        max_iter=100)\n",
        "\n",
        "# Perform 10-fold cross-validation and calculate the accuracy scores\n",
        "# Here, we use cross_val_score to perform cross-validation\n",
        "# 'cv=10' specifies 10-fold cross-validation\n",
        "# 'X_scaled' is the scaled feature matrix, and 'y' is the target variable\n",
        "# 'scoring' specifies the scoring metric (accuracy in this case)\n",
        "scores = cross_val_score(lr,\n",
        "                         X_scaled,\n",
        "                         y,\n",
        "                         cv=10,\n",
        "                         scoring='f1_macro')\n",
        "\n",
        "# Print the accuracy scores for each fold\n",
        "print(\"F1 scores for each fold:\", scores)\n",
        "\n",
        "# Calculate and print the mean accuracy and standard deviation\n",
        "mean_f1score = scores.mean()\n",
        "std_f1score = scores.std() * 2  # Multiply by 2 for 95% confidence interval\n",
        "print(f\"Mean F1 scores: {mean_f1score:.2f} (+/- {std_f1score:.2f})\")\n"
      ],
      "metadata": {
        "colab": {
          "base_uri": "https://localhost:8080/"
        },
        "id": "ioQaguVWY7TM",
        "outputId": "d6bd7f51-736d-458b-8cc5-09f2e43548ce"
      },
      "execution_count": null,
      "outputs": [
        {
          "output_type": "stream",
          "name": "stdout",
          "text": [
            "F1 scores for each fold: [1.         1.         1.         1.         0.93265993 1.\n",
            " 0.86666667 1.         1.         1.        ]\n",
            "Mean F1 scores: 0.98 (+/- 0.09)\n"
          ]
        }
      ]
    },
    {
      "cell_type": "markdown",
      "source": [
        "It's important to note that feature engineering is not a guaranteed way to improve model performance. Sometimes, creative feature engineering can lead to better results, but in other cases, it may have a negative impact. The choice of features should be based on a deep understanding of the data and the problem you are trying to solve. In practice, it's common to experiment with different feature engineering techniques and evaluate their impact on the model's performance."
      ],
      "metadata": {
        "id": "I7p-Z2_KbuC4"
      }
    },
    {
      "cell_type": "code",
      "source": [
        "#################################### Feature Engineering Example 2 ####################################\n",
        "\n",
        "# Feature Engineering: Create a new feature - Petal Length to Sepal Length Ratio\n",
        "# We'll use the first two features (sepal length and petal length) to compute the ratio\n",
        "X_ratio = X[:, 0] / X[:, 2]\n",
        "X_ratio = X_ratio.reshape(-1, 1)\n",
        "\n",
        "# Initialize a Logistic Regression model\n",
        "lr = LogisticRegression(multi_class='auto', max_iter=100)\n",
        "\n",
        "# Perform 10-fold cross-validation and calculate accuracy scores\n",
        "# 'cv=10' specifies 10-fold cross-validation\n",
        "# 'X_ratio' is the ratio feature, and 'y' is the target variable\n",
        "# 'scoring' specifies the scoring metric (accuracy in this case)\n",
        "scores = cross_val_score(lr,\n",
        "                         X_ratio,\n",
        "                         y,\n",
        "                         cv=10,\n",
        "                         scoring='f1_macro')\n",
        "\n",
        "# Print the accuracy scores for each fold\n",
        "print(\"F1 scores for each fold:\", scores)\n",
        "\n",
        "# Calculate and print the mean accuracy and standard deviation\n",
        "mean_f1score = scores.mean()\n",
        "std_f1score = scores.std() * 2  # Multiply by 2 for confidence interval\n",
        "print(f\"Mean F1 scores: {mean_f1score:.2f} (+/- {std_f1score:.2f})\")\n"
      ],
      "metadata": {
        "colab": {
          "base_uri": "https://localhost:8080/"
        },
        "id": "ukn0lqKWbLL7",
        "outputId": "2dcfc73b-cbf5-438b-fd43-652de31058e7"
      },
      "execution_count": null,
      "outputs": [
        {
          "output_type": "stream",
          "name": "stdout",
          "text": [
            "F1 scores for each fold: [1.         0.93265993 0.93265993 0.93265993 0.78021978 1.\n",
            " 0.86111111 1.         0.86666667 1.        ]\n",
            "Mean F1 scores: 0.93 (+/- 0.14)\n"
          ]
        }
      ]
    },
    {
      "cell_type": "code",
      "source": [
        "#################################### Feature Engineering Example 3 ####################################\n",
        "\n",
        "# Load the Iris dataset\n",
        "X, y = iris.data, iris.target\n",
        "\n",
        "# Feature Engineering: Create a new feature - Petal Length to Sepal Length Ratio\n",
        "# We'll use the first two features (sepal length and petal length) to compute the ratio\n",
        "X_ratio = X[:, 0] / X[:, 2]\n",
        "X_ratio = X_ratio.reshape(-1, 1)\n",
        "\n",
        "# Concatenate the ratio feature with the original feature matrix X\n",
        "X_combined = np.hstack((X, X_ratio))\n",
        "\n",
        "# Initialize a Logistic Regression model\n",
        "lr = LogisticRegression(multi_class='auto', max_iter=500)\n",
        "\n",
        "# Perform 10-fold cross-validation and calculate F1 macro scores\n",
        "# 'cv=10' specifies 10-fold cross-validation\n",
        "# 'X_combined' is the combined feature matrix, and 'y' is the target variable\n",
        "# 'scoring' specifies the scoring metric (F1 macro in this case)\n",
        "scores = cross_val_score(lr,\n",
        "                         X_combined,\n",
        "                         y,\n",
        "                         cv=10,\n",
        "                         scoring='f1_macro')\n",
        "\n",
        "# Print the F1 macro scores for each fold\n",
        "print(\"F1 macro scores for each fold:\", scores)\n",
        "\n",
        "# Calculate and print the mean F1 macro score and standard deviation\n",
        "mean_f1_macro = scores.mean()\n",
        "std_f1_macro = scores.std() * 2  # Multiply by 2 for confidence interval\n",
        "print(f\"Mean F1 Macro Score: {mean_f1_macro:.2f} (+/- {std_f1_macro:.2f})\")\n"
      ],
      "metadata": {
        "colab": {
          "base_uri": "https://localhost:8080/"
        },
        "id": "dp7333MKdULD",
        "outputId": "31917a7d-3fa7-4cf3-eba6-e6699581009e"
      },
      "execution_count": null,
      "outputs": [
        {
          "output_type": "stream",
          "name": "stdout",
          "text": [
            "F1 macro scores for each fold: [1.         0.93265993 1.         1.         0.93265993 0.93265993\n",
            " 0.93265993 1.         1.         1.        ]\n",
            "Mean F1 Macro Score: 0.97 (+/- 0.07)\n"
          ]
        }
      ]
    },
    {
      "cell_type": "code",
      "source": [],
      "metadata": {
        "id": "fEoZiNFGSD92"
      },
      "execution_count": null,
      "outputs": []
    },
    {
      "cell_type": "markdown",
      "metadata": {
        "id": "bcnCS5sr5a5K"
      },
      "source": [
        "# Visualizing the logistic regression boundaries"
      ]
    },
    {
      "cell_type": "markdown",
      "source": [
        "The code below is provided for educational purposes so that we have a better understanding of the decision boundaries the logistic regression model builds.\n",
        "\n",
        "Specifically, this code defines a Python function called plot_decision_regions that helps visualize the decision boundaries of a classifier. The function takes several parameters and uses Matplotlib to create a scatter plot with decision regions.\n",
        "\n",
        "Overall, this function is a convenient tool for visualizing the decision boundaries of a classifier when working with two-dimensional feature data. It helps you understand how the classifier separates different classes in the feature space.\n",
        "\n",
        "\n",
        "\n",
        "\n"
      ],
      "metadata": {
        "id": "geGotKFqoT7H"
      }
    },
    {
      "cell_type": "code",
      "metadata": {
        "id": "6jlHqENK5a5L"
      },
      "source": [
        "# Function that will help us visualize the decision surfaces\n",
        "from matplotlib.colors import ListedColormap\n",
        "import matplotlib.pyplot as plt\n",
        "import numpy as np\n",
        "\n",
        "'''\n",
        "We define the plot_decision_regions function that takes the following parameters:\n",
        "  - X: Feature matrix (numpy array).\n",
        "  - y: Target variable (numpy array).\n",
        "  - classifier: The classifier model to visualize.\n",
        "  - test_idx: Optional parameter to highlight test samples (default is None).\n",
        "  - resolution: The step size for creating a grid to plot the decision boundaries (default is 0.02).\n",
        "'''\n",
        "\n",
        "def plot_decision_regions(X, y, classifier, test_idx=None, resolution=0.02):\n",
        "\n",
        "    # sets up marker styles and colors for different classes\n",
        "    markers = ('s', 'x', 'o', '^', 'v')\n",
        "    colors = ('red', 'blue', 'lightgreen', 'gray', 'cyan')\n",
        "    # create a color map (cmap) using ListedColormap based on the unique class colors\n",
        "    cmap = ListedColormap(colors[:len(np.unique(y))])\n",
        "\n",
        "    # plot the decision surface\n",
        "\n",
        "    # determine the plot's dimensions by finding the minimum and maximum values of the features.\n",
        "    x1_min, x1_max = X[:, 0].min() - 1, X[:, 0].max() + 1\n",
        "    x2_min, x2_max = X[:, 1].min() - 1, X[:, 1].max() + 1\n",
        "\n",
        "    # create a grid of points (xx1 and xx2) using np.meshgrid within the determined ranges with a specified resolution\n",
        "    xx1, xx2= np.meshgrid(np.arange(x1_min, x1_max, resolution),\n",
        "                           np.arange(x2_min, x2_max, resolution))\n",
        "\n",
        "    # flatten the grid coordinates and predicts the class labels for each point using the provided classifier\n",
        "    Z = classifier.predict(np.array([xx1.ravel(), xx2.ravel()]).T)\n",
        "\n",
        "    # reshape the predicted labels (Z) to match the shape of the grid (xx1)\n",
        "    Z = Z.reshape(xx1.shape)\n",
        "\n",
        "    # use plt.contourf to plot filled contour regions based on the predicted labels (Z) to visualize the decision boundaries.\n",
        "    plt.contourf(xx1, xx2, Z,\n",
        "                 alpha=0.3, # sets the transparency of the filled regions\n",
        "                 cmap=cmap) # specifies the colormap for coloring the regions\n",
        "\n",
        "    # set the x and y-axis limits to match the boundaries of the decision surface.\n",
        "    plt.xlim(xx1.min(), xx1.max())\n",
        "    plt.ylim(xx2.min(), xx2.max())\n",
        "\n",
        "    # iterates through unique class labels (np.unique(y)) and plots individual data points for each class\n",
        "    for idx, cl in enumerate(np.unique(y)):\n",
        "        plt.scatter(x=X[y == cl, 0],     # extract the feature values for the current class\n",
        "                    y=X[y == cl, 1],\n",
        "                    alpha=0.8,           # set the transparency of the data points\n",
        "                    c=[colors[idx]],     # specifies the color of data points based on the class\n",
        "                    marker=markers[idx], # selects a marker style for data points\n",
        "                    label=cl,            # provides labels for each class\n",
        "                    edgecolor='black')   # sets the edge color of data points\n",
        "\n",
        "    # highlight test samples\n",
        "    # If test_idx is provided (indicating which samples are from the test set),\n",
        "    # it plots those samples with a different marker style and labels them as the \"test set.\"\n",
        "    if test_idx:\n",
        "        # plot all samples\n",
        "        X_test, y_test = X[test_idx, :], y[test_idx]\n",
        "\n",
        "        plt.scatter(X_test[:, 0],\n",
        "                    X_test[:, 1],\n",
        "                    facecolors = 'none',\n",
        "                    edgecolor='black',\n",
        "                    alpha=1.0,\n",
        "                    linewidth=1,\n",
        "                    marker='o',\n",
        "                    s=100,\n",
        "                    label='test set')\n"
      ],
      "execution_count": null,
      "outputs": []
    },
    {
      "cell_type": "markdown",
      "source": [
        "\n",
        "The following code demonstrates the use of logistic regression for classification and visualizes the decision boundaries of the classifier using a function called plot_decision_regions."
      ],
      "metadata": {
        "id": "quRe4yNDXOZR"
      }
    },
    {
      "cell_type": "code",
      "metadata": {
        "id": "hZzZgpfd5a5N",
        "colab": {
          "base_uri": "https://localhost:8080/",
          "height": 542
        },
        "outputId": "18fbe03c-bf16-4673-f02f-3ca40e00507b"
      },
      "source": [
        "from sklearn.linear_model import LogisticRegression\n",
        "#from mlxtend.plotting import plot_decision_regions\n",
        "\n",
        "# Function that will help us visualize the decision surfaces\n",
        "from matplotlib.colors import ListedColormap\n",
        "import matplotlib.pyplot as plt\n",
        "import numpy as np\n",
        "\n",
        "# combine the training and test datasets into a single dataset. This is done by vertically\n",
        "# stacking (np.vstack) the feature matrices X_train and X_test and horizontally stacking\n",
        "# (np.hstack) the corresponding target vectors y_train and y_test.\n",
        "X_combined = np.vstack((X_train, X_test))\n",
        "y_combined = np.hstack((y_train, y_test))\n",
        "\n",
        "# an instance of the logistic regression classifier (LogisticRegression) is created\n",
        "lr = LogisticRegression(multi_class='auto', # the classifier should handle multi-class classification automatically\n",
        "                        C=1e5,              # The C parameter is the inverse of the regularization strength (larger values indicate weaker regularization)\n",
        "                        random_state=1)     # This sets a random seed for reproducibility\n",
        "\n",
        "# trains the logistic regression model on the training data\n",
        "lr.fit(X_train, y_train)\n",
        "\n",
        "# the plot_decision_regions function is called to visualize the decision boundaries of the logistic regression classifier\n",
        "plot_decision_regions(X_combined, # the combined feature matrix and target vector that include both training and test data\n",
        "                      y_combined,\n",
        "                      classifier=lr,\n",
        "                      test_idx=range(105, 150)) # an optional parameter that highlights the test samples by\n",
        "                                                # specifying their indices (in this case, samples from index 105 to 149)\n",
        "\n",
        "plt.xlabel('petal length [standardized]')\n",
        "plt.ylabel('petal width [standardized]')\n",
        "plt.legend(loc='upper left')\n",
        "plt.tight_layout()\n",
        "plt.show()\n"
      ],
      "execution_count": null,
      "outputs": [
        {
          "output_type": "stream",
          "name": "stderr",
          "text": [
            "<ipython-input-20-46fb5ccba38c>:50: UserWarning: You passed a edgecolor/edgecolors ('black') for an unfilled marker ('x').  Matplotlib is ignoring the edgecolor in favor of the facecolor.  This behavior may change in the future.\n",
            "  plt.scatter(x=X[y == cl, 0],     # extract the feature values for the current class\n"
          ]
        },
        {
          "output_type": "display_data",
          "data": {
            "text/plain": [
              "<Figure size 640x480 with 1 Axes>"
            ],
            "image/png": "[encoded data removed]"
          },
          "metadata": {}
        }
      ]
    },
    {
      "cell_type": "markdown",
      "metadata": {
        "id": "AMjoPR-L5a5W"
      },
      "source": [
        "# Learning Curves"
      ]
    },
    {
      "cell_type": "markdown",
      "metadata": {
        "id": "W5IPIZXL5a5X"
      },
      "source": [
        "A learning curve shows the validation and training score of an estimator for varying numbers of training samples. It is a tool to find out how much we benefit from adding more training data. If both the validation score and the training score converge to a value that is too low with increasing size of the training set, we will not benefit much from more training data.\n",
        "\n",
        "If the training score is much greater than the validation score for the maximum number of training samples, adding more training samples will most likely increase generalization."
      ]
    },
    {
      "cell_type": "code",
      "metadata": {
        "id": "N9107iMj5a5X"
      },
      "source": [
        "################################## Define function that plots Learning Curves ##################################\n",
        "\n",
        "def plot_learning_curve(estimator, title, X, y, ylim=None, cv=None,\n",
        "                        n_jobs=1, train_sizes=np.linspace(.1, 1.0, 5)): # np.linspace(.1, 1.0, 5) will return evenly\n",
        "                                                                        # spaced 5 numbers from 0.1 to 1.0\n",
        "                        # n_jobs is the number of CPUs to use to do the computation.\n",
        "    \"\"\"\n",
        "    Generate a simple plot of the test and training learning curve.\n",
        "\n",
        "    Parameters\n",
        "    ----------\n",
        "    estimator : object type that implements the \"fit\" and \"predict\" methods\n",
        "        An object of that type which is cloned for each validation.\n",
        "\n",
        "    title : string\n",
        "        Title for the chart.\n",
        "\n",
        "    X : array-like, shape (n_samples, n_features)\n",
        "        Training vector, where n_samples is the number of samples and\n",
        "        n_features is the number of features.\n",
        "\n",
        "    y : array-like, shape (n_samples) or (n_samples, n_features), optional\n",
        "        Target relative to X for classification or regression;\n",
        "        None for unsupervised learning.\n",
        "\n",
        "    ylim : tuple, shape (ymin, ymax), optional\n",
        "        Defines minimum and maximum yvalues plotted.\n",
        "\n",
        "    cv : int, cross-validation generator or an iterable, optional\n",
        "        Determines the cross-validation splitting strategy.\n",
        "        Possible inputs for cv are:\n",
        "          - None, to use the default 3-fold cross-validation,\n",
        "          - integer, to specify the number of folds.\n",
        "          - An object to be used as a cross-validation generator.\n",
        "          - An iterable yielding train/test splits.\n",
        "\n",
        "        For integer/None inputs, if ``y`` is binary or multiclass,\n",
        "        :class:`StratifiedKFold` used. If the estimator is not a classifier\n",
        "        or if ``y`` is neither binary nor multiclass, :class:`KFold` is used.\n",
        "\n",
        "        Refer :ref:`User Guide <cross_validation>` for the various\n",
        "        cross-validators that can be used here.\n",
        "\n",
        "    n_jobs : integer, optional\n",
        "        Number of jobs to run in parallel (default 1).\n",
        "    \"\"\"\n",
        "\n",
        "    # Visualization patamters\n",
        "    plt.figure()\n",
        "    plt.title(title)\n",
        "    if ylim is not None:\n",
        "        plt.ylim(*ylim)\n",
        "    plt.xlabel(\"Training examples\")\n",
        "    plt.ylabel(\"Score\")\n",
        "\n",
        "    # Estimate train and test score for different training set sizes\n",
        "    train_sizes, train_scores, test_scores = learning_curve(\n",
        "        estimator, X, y, cv=cv, n_jobs=n_jobs, train_sizes=train_sizes) # learning_curve Determines cross-validated\n",
        "                                                                        # training and test scores for different\n",
        "                                                                        # training set sizes.\n",
        "\n",
        "    # Estimate statistics of train and test scores (mean, std)\n",
        "    train_scores_mean = np.mean(train_scores, axis=1)\n",
        "    train_scores_std = np.std(train_scores, axis=1)\n",
        "    test_scores_mean = np.mean(test_scores, axis=1)\n",
        "    test_scores_std = np.std(test_scores, axis=1)\n",
        "    plt.grid()\n",
        "\n",
        "    # Fill the area around the mean scores with standard deviation info\n",
        "    plt.fill_between(train_sizes, train_scores_mean - train_scores_std,\n",
        "                     train_scores_mean + train_scores_std, alpha=0.1,\n",
        "                     color=\"r\") # Fill for train set scores\n",
        "\n",
        "    plt.fill_between(train_sizes, test_scores_mean - test_scores_std,\n",
        "                     test_scores_mean + test_scores_std, alpha=0.1, color=\"g\")  # Fill for test set scores\n",
        "\n",
        "    # Visualization parameters that will allow us to distinguish train set scores from test set scores\n",
        "    plt.plot(train_sizes, train_scores_mean, 'o-', color=\"r\",\n",
        "             label=\"Training score\")\n",
        "    plt.plot(train_sizes, test_scores_mean, 'o-', color=\"g\",\n",
        "             label=\"Cross-validation score\")\n",
        "\n",
        "    plt.legend(loc=\"best\")\n",
        "    return plt"
      ],
      "execution_count": null,
      "outputs": []
    },
    {
      "cell_type": "code",
      "metadata": {
        "id": "AV3jnKpP5a5a",
        "colab": {
          "base_uri": "https://localhost:8080/",
          "height": 927
        },
        "outputId": "8e61e6e4-03b0-4dcb-aa26-d3ff8ae4a4b3"
      },
      "source": [
        "###################################### Plot Learning Curves (LR and kNN) #######################################\n",
        "\n",
        "from sklearn.model_selection import learning_curve\n",
        "from sklearn.model_selection import ShuffleSplit\n",
        "from sklearn.linear_model import LogisticRegression\n",
        "from sklearn import neighbors\n",
        "\n",
        "title = \"Learning Curve (LR)\"\n",
        "# SVC is more expensive so we do a lower number of CV iterations:\n",
        "cv = ShuffleSplit(n_splits=10, test_size=0.3, random_state=42)\n",
        "estimator = LogisticRegression()\n",
        "plot_learning_curve(estimator, title, X, y, (0.0, 1.01), cv=cv, n_jobs=4)\n",
        "\n",
        "plt.show()\n",
        "\n",
        "title = \"Learning Curve (kNN)\"\n",
        "# SVC is more expensive so we do a lower number of CV iterations:\n",
        "cv = ShuffleSplit(n_splits=10, test_size=0.3, random_state=42)\n",
        "estimator = neighbors.KNeighborsClassifier() #n_neighbors=\n",
        "plot_learning_curve(estimator, title, X, y, (0.0, 1.01), cv=cv, n_jobs=4)\n",
        "\n",
        "plt.show()\n",
        "\n"
      ],
      "execution_count": null,
      "outputs": [
        {
          "output_type": "display_data",
          "data": {
            "text/plain": [
              "<Figure size 640x480 with 1 Axes>"
            ],
            "image/png": "[encoded data removed]"
          },
          "metadata": {}
        },
        {
          "output_type": "display_data",
          "data": {
            "text/plain": [
              "<Figure size 640x480 with 1 Axes>"
            ],
            "image/png": "[encoded data removed]"
          },
          "metadata": {}
        }
      ]
    },
    {
      "cell_type": "markdown",
      "source": [
        "\n",
        "# Handling Categorical Variables\n",
        "\n",
        "Machine learning models, including logistic regression, cannot work with categorical variables directly because they only process numerical data. One-hot encoding is a standard technique for converting categorical data into numerical form.\n",
        "\n",
        "By using drop_first=True, we omit one category (low in this case). This is done to avoid perfect multicollinearity. If we encoded all the categories, we would end up with a situation where the columns are perfectly dependent on each other. For instance, knowing that income_high=0 and income_medium=0 would tell us that income_low=1. This results in a linear dependence, which causes problems in models like logistic regression.\n",
        "\n",
        "The category that is omitted (low) becomes the baseline. The model interprets the effect of high and medium income relative to this baseline. In other words, the model will make comparisons of high and medium income against the low income category.\n",
        "\n",
        "The model is evaluated using accuracy, though in some cases (e.g., imbalanced data), other metrics like precision, recall, or AUC-ROC might be more appropriate.\n"
      ],
      "metadata": {
        "id": "7q2pwf7AT-VO"
      }
    },
    {
      "cell_type": "code",
      "source": [
        "######################################## Importing Libraries ########################################\n",
        "\n",
        "import pandas as pd                                   #pandas is a powerful data manipulation library used to handle tabular data.\n",
        "from sklearn.model_selection import train_test_split  #function from sklearn that splits the dataset into training and testing sets.\n",
        "from sklearn.linear_model import LogisticRegression   #a logistic regression classifier from sklearn, which is used for classification tasks.\n",
        "from sklearn.metrics import accuracy_score            #a function to compute the accuracy of the model’s predictions.\n",
        "\n",
        "######################################## Creating the Dataset ########################################\n",
        "\n",
        "# We simulate 1,000 samples with three features:\n",
        "## age: A continuous feature generated from a normal distribution with a mean of 40 years and a standard deviation of 10.\n",
        "## income: A continuous feature generated from a normal distribution with a mean income of $50,000 and a standard deviation of $15,000.\n",
        "## education: A categorical feature with four levels (High School, Bachelor, Master, and PhD), where we set probabilities for each level\n",
        "## (e.g., 40% of the population has only a high school education).\n",
        "\n",
        "# Set random seed for reproducibility\n",
        "np.random.seed(42)\n",
        "\n",
        "# Number of samples\n",
        "n_samples = 1000\n",
        "\n",
        "# Simulate continuous features (e.g., age, income)\n",
        "age = np.random.normal(40, 10, n_samples).astype(int)  # Normal distribution with mean=40, std=10\n",
        "income = np.random.normal(50000, 15000, n_samples).astype(int)  # Normal distribution with mean=50000, std=15000\n",
        "\n",
        "# Simulate a categorical feature (e.g., education level)\n",
        "education_levels = ['High School', 'Bachelor', 'Master', 'PhD']\n",
        "education = np.random.choice(education_levels, size=n_samples, p=[0.4, 0.3, 0.2, 0.1])\n",
        "\n",
        "# Binary target variable based on a rule (higher income and education lead to lower default rates)\n",
        "# We introduce some noise to make it more realistic\n",
        "\n",
        "# np.random.rand(n_samples) generates n_samples random numbers uniformly distributed between 0 and 1.\n",
        "# These random values introduce noise or randomness to simulate real-world scenarios where outcomes are not deterministic\n",
        "# (i.e., people with the same income and education may have different outcomes, so we add randomness).\n",
        "\n",
        "# For each individual, the threshold (0.5 - 0.00001*income - 0.05*(education == 'PhD')) represents their default probability\n",
        "# based on their income and education level.\n",
        "\n",
        "# We then compare this threshold with a random number from np.random.rand(). If the random number is less than the threshold,\n",
        "# the person is labeled as defaulting (1); otherwise, they are labeled as not defaulting (0).\n",
        "\n",
        "# .astype(int) converts the resulting boolean array (which is True for people who default and False for those who don’t) into integers\n",
        "defaulted = (np.random.rand(n_samples) < (0.5 - 0.00001*income - 0.05*(education == 'PhD'))).astype(int)\n",
        "\n",
        "# Create a DataFrame\n",
        "df = pd.DataFrame({\n",
        "    'age': age,\n",
        "    'income': income,\n",
        "    'education': education,\n",
        "    'defaulted': defaulted\n",
        "})\n",
        "\n",
        "print(df.head())\n",
        "\n",
        "######################################## Handling Categorical Variables ########################################\n",
        "\n",
        "#One-hot encoding is a process used to convert categorical variables into a set of binary (0 or 1) columns.\n",
        "#Each unique category in the variable is turned into its own binary column.\n",
        "\n",
        "# One-Hot Encoding with drop_first=True to omit one category\n",
        "df_one_hot = pd.get_dummies(df, columns=['education'], drop_first=True)\n",
        "\n",
        "print(\"One-Hot Encoded Data:\")\n",
        "print(df_one_hot.head()) # Note: True and False are internally treated as 1 and 0 when used in calculations or models.\n",
        "\n",
        "##################################### Training the Logistic Regression Model #####################################\n",
        "\n",
        "# Splitting the data into features and target variable\n",
        "X = df_one_hot.drop(columns='defaulted')\n",
        "y = df_one_hot['defaulted']\n",
        "\n",
        "# Split the dataset into training and testing sets\n",
        "X_train, X_test, y_train, y_test = train_test_split(X, y, test_size=0.3, random_state=42)\n",
        "\n",
        "# Initialize and train the Logistic Regression model\n",
        "model = LogisticRegression()\n",
        "model.fit(X_train, y_train)\n",
        "\n",
        "##################################### Evaluating the Logistic Regression Model #####################################\n",
        "\n",
        "# Make predictions and evaluate\n",
        "y_pred = model.predict(X_test)\n",
        "accuracy = accuracy_score(y_test, y_pred)\n",
        "print(f\"\\nAccuracy: {accuracy:.2f}\")\n"
      ],
      "metadata": {
        "colab": {
          "base_uri": "https://localhost:8080/"
        },
        "id": "wbxTRZ2zSFnS",
        "outputId": "06e84914-0f93-48bd-c771-770c10b6e0cc"
      },
      "execution_count": null,
      "outputs": [
        {
          "output_type": "stream",
          "name": "stdout",
          "text": [
            "   age  income    education  defaulted\n",
            "0   44   70990     Bachelor          0\n",
            "1   38   63869  High School          0\n",
            "2   46   50894  High School          0\n",
            "3   55   40295  High School          0\n",
            "4   37   60473       Master          0\n",
            "One-Hot Encoded Data:\n",
            "   age  income  defaulted  education_High School  education_Master  \\\n",
            "0   44   70990          0                  False             False   \n",
            "1   38   63869          0                   True             False   \n",
            "2   46   50894          0                   True             False   \n",
            "3   55   40295          0                   True             False   \n",
            "4   37   60473          0                  False              True   \n",
            "\n",
            "   education_PhD  \n",
            "0          False  \n",
            "1          False  \n",
            "2          False  \n",
            "3          False  \n",
            "4          False  \n",
            "\n",
            "Accuracy: 0.93\n"
          ]
        }
      ]
    }
  ]
}